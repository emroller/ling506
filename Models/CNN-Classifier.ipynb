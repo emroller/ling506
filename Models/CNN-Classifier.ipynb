{
 "cells": [
  {
   "cell_type": "code",
   "execution_count": 240,
   "metadata": {},
   "outputs": [
    {
     "name": "stdout",
     "output_type": "stream",
     "text": [
      "Requirement already up-to-date: emoji in /Users/emilyroller/Library/Python/3.8/lib/python/site-packages (1.6.1)\n",
      "\u001b[33mWARNING: You are using pip version 19.2.3, however version 21.3.1 is available.\n",
      "You should consider upgrading via the 'pip install --upgrade pip' command.\u001b[0m\n",
      "Requirement already up-to-date: tensorflow in /Users/emilyroller/Library/Python/3.8/lib/python/site-packages (2.7.0)\n",
      "Requirement already satisfied, skipping upgrade: keras<2.8,>=2.7.0rc0 in /Users/emilyroller/Library/Python/3.8/lib/python/site-packages (from tensorflow) (2.7.0)\n",
      "Requirement already satisfied, skipping upgrade: flatbuffers<3.0,>=1.12 in /Users/emilyroller/Library/Python/3.8/lib/python/site-packages (from tensorflow) (2.0)\n",
      "Requirement already satisfied, skipping upgrade: typing-extensions>=3.6.6 in /Users/emilyroller/Library/Python/3.8/lib/python/site-packages (from tensorflow) (4.0.0)\n",
      "Requirement already satisfied, skipping upgrade: tensorflow-io-gcs-filesystem>=0.21.0 in /Users/emilyroller/Library/Python/3.8/lib/python/site-packages (from tensorflow) (0.23.0)\n",
      "Requirement already satisfied, skipping upgrade: grpcio<2.0,>=1.24.3 in /Users/emilyroller/Library/Python/3.8/lib/python/site-packages (from tensorflow) (1.42.0)\n",
      "Requirement already satisfied, skipping upgrade: h5py>=2.9.0 in /Users/emilyroller/Library/Python/3.8/lib/python/site-packages (from tensorflow) (3.6.0)\n",
      "Requirement already satisfied, skipping upgrade: termcolor>=1.1.0 in /Users/emilyroller/Library/Python/3.8/lib/python/site-packages (from tensorflow) (1.1.0)\n",
      "Requirement already satisfied, skipping upgrade: astunparse>=1.6.0 in /Users/emilyroller/Library/Python/3.8/lib/python/site-packages (from tensorflow) (1.6.3)\n",
      "Requirement already satisfied, skipping upgrade: tensorflow-estimator<2.8,~=2.7.0rc0 in /Users/emilyroller/Library/Python/3.8/lib/python/site-packages (from tensorflow) (2.7.0)\n",
      "Requirement already satisfied, skipping upgrade: numpy>=1.14.5 in /Users/emilyroller/Library/Python/3.8/lib/python/site-packages (from tensorflow) (1.20.2)\n",
      "Requirement already satisfied, skipping upgrade: keras-preprocessing>=1.1.1 in /Users/emilyroller/Library/Python/3.8/lib/python/site-packages (from tensorflow) (1.1.2)\n",
      "Requirement already satisfied, skipping upgrade: gast<0.5.0,>=0.2.1 in /Users/emilyroller/Library/Python/3.8/lib/python/site-packages (from tensorflow) (0.4.0)\n",
      "Requirement already satisfied, skipping upgrade: wrapt>=1.11.0 in /Users/emilyroller/Library/Python/3.8/lib/python/site-packages (from tensorflow) (1.13.3)\n",
      "Requirement already satisfied, skipping upgrade: protobuf>=3.9.2 in /Users/emilyroller/Library/Python/3.8/lib/python/site-packages (from tensorflow) (3.19.1)\n",
      "Requirement already satisfied, skipping upgrade: six>=1.12.0 in /Library/Developer/CommandLineTools/Library/Frameworks/Python3.framework/Versions/3.8/lib/python3.8/site-packages (from tensorflow) (1.15.0)\n",
      "Requirement already satisfied, skipping upgrade: libclang>=9.0.1 in /Users/emilyroller/Library/Python/3.8/lib/python/site-packages (from tensorflow) (12.0.0)\n",
      "Requirement already satisfied, skipping upgrade: google-pasta>=0.1.1 in /Users/emilyroller/Library/Python/3.8/lib/python/site-packages (from tensorflow) (0.2.0)\n",
      "Requirement already satisfied, skipping upgrade: opt-einsum>=2.3.2 in /Users/emilyroller/Library/Python/3.8/lib/python/site-packages (from tensorflow) (3.3.0)\n",
      "Requirement already satisfied, skipping upgrade: absl-py>=0.4.0 in /Users/emilyroller/Library/Python/3.8/lib/python/site-packages (from tensorflow) (1.0.0)\n",
      "Requirement already satisfied, skipping upgrade: tensorboard~=2.6 in /Users/emilyroller/Library/Python/3.8/lib/python/site-packages (from tensorflow) (2.7.0)\n",
      "Requirement already satisfied, skipping upgrade: wheel<1.0,>=0.32.0 in /Library/Developer/CommandLineTools/Library/Frameworks/Python3.framework/Versions/3.8/lib/python3.8/site-packages (from tensorflow) (0.33.1)\n",
      "Requirement already satisfied, skipping upgrade: requests<3,>=2.21.0 in /Users/emilyroller/Library/Python/3.8/lib/python/site-packages (from tensorboard~=2.6->tensorflow) (2.26.0)\n",
      "Requirement already satisfied, skipping upgrade: werkzeug>=0.11.15 in /Users/emilyroller/Library/Python/3.8/lib/python/site-packages (from tensorboard~=2.6->tensorflow) (2.0.2)\n",
      "Requirement already satisfied, skipping upgrade: markdown>=2.6.8 in /Users/emilyroller/Library/Python/3.8/lib/python/site-packages (from tensorboard~=2.6->tensorflow) (3.3.6)\n",
      "Requirement already satisfied, skipping upgrade: setuptools>=41.0.0 in /Library/Developer/CommandLineTools/Library/Frameworks/Python3.framework/Versions/3.8/lib/python3.8/site-packages (from tensorboard~=2.6->tensorflow) (41.2.0)\n",
      "Requirement already satisfied, skipping upgrade: google-auth-oauthlib<0.5,>=0.4.1 in /Users/emilyroller/Library/Python/3.8/lib/python/site-packages (from tensorboard~=2.6->tensorflow) (0.4.6)\n",
      "Requirement already satisfied, skipping upgrade: google-auth<3,>=1.6.3 in /Users/emilyroller/Library/Python/3.8/lib/python/site-packages (from tensorboard~=2.6->tensorflow) (2.3.3)\n",
      "Requirement already satisfied, skipping upgrade: tensorboard-plugin-wit>=1.6.0 in /Users/emilyroller/Library/Python/3.8/lib/python/site-packages (from tensorboard~=2.6->tensorflow) (1.8.0)\n",
      "Requirement already satisfied, skipping upgrade: tensorboard-data-server<0.7.0,>=0.6.0 in /Users/emilyroller/Library/Python/3.8/lib/python/site-packages (from tensorboard~=2.6->tensorflow) (0.6.1)\n",
      "Requirement already satisfied, skipping upgrade: charset-normalizer~=2.0.0; python_version >= \"3\" in /Users/emilyroller/Library/Python/3.8/lib/python/site-packages (from requests<3,>=2.21.0->tensorboard~=2.6->tensorflow) (2.0.9)\n",
      "Requirement already satisfied, skipping upgrade: certifi>=2017.4.17 in /Users/emilyroller/Library/Python/3.8/lib/python/site-packages (from requests<3,>=2.21.0->tensorboard~=2.6->tensorflow) (2021.10.8)\n",
      "Requirement already satisfied, skipping upgrade: idna<4,>=2.5; python_version >= \"3\" in /Users/emilyroller/Library/Python/3.8/lib/python/site-packages (from requests<3,>=2.21.0->tensorboard~=2.6->tensorflow) (3.3)\n",
      "Requirement already satisfied, skipping upgrade: urllib3<1.27,>=1.21.1 in /Users/emilyroller/Library/Python/3.8/lib/python/site-packages (from requests<3,>=2.21.0->tensorboard~=2.6->tensorflow) (1.26.7)\n",
      "Requirement already satisfied, skipping upgrade: importlib-metadata>=4.4; python_version < \"3.10\" in /Users/emilyroller/Library/Python/3.8/lib/python/site-packages (from markdown>=2.6.8->tensorboard~=2.6->tensorflow) (4.8.2)\n",
      "Requirement already satisfied, skipping upgrade: requests-oauthlib>=0.7.0 in /Users/emilyroller/Library/Python/3.8/lib/python/site-packages (from google-auth-oauthlib<0.5,>=0.4.1->tensorboard~=2.6->tensorflow) (1.3.0)\n",
      "Requirement already satisfied, skipping upgrade: cachetools<5.0,>=2.0.0 in /Users/emilyroller/Library/Python/3.8/lib/python/site-packages (from google-auth<3,>=1.6.3->tensorboard~=2.6->tensorflow) (4.2.4)\n",
      "Requirement already satisfied, skipping upgrade: pyasn1-modules>=0.2.1 in /Users/emilyroller/Library/Python/3.8/lib/python/site-packages (from google-auth<3,>=1.6.3->tensorboard~=2.6->tensorflow) (0.2.8)\n",
      "Requirement already satisfied, skipping upgrade: rsa<5,>=3.1.4; python_version >= \"3.6\" in /Users/emilyroller/Library/Python/3.8/lib/python/site-packages (from google-auth<3,>=1.6.3->tensorboard~=2.6->tensorflow) (4.8)\n",
      "Requirement already satisfied, skipping upgrade: zipp>=0.5 in /Users/emilyroller/Library/Python/3.8/lib/python/site-packages (from importlib-metadata>=4.4; python_version < \"3.10\"->markdown>=2.6.8->tensorboard~=2.6->tensorflow) (3.6.0)\n",
      "Requirement already satisfied, skipping upgrade: oauthlib>=3.0.0 in /Users/emilyroller/Library/Python/3.8/lib/python/site-packages (from requests-oauthlib>=0.7.0->google-auth-oauthlib<0.5,>=0.4.1->tensorboard~=2.6->tensorflow) (3.1.1)\n",
      "Requirement already satisfied, skipping upgrade: pyasn1<0.5.0,>=0.4.6 in /Users/emilyroller/Library/Python/3.8/lib/python/site-packages (from pyasn1-modules>=0.2.1->google-auth<3,>=1.6.3->tensorboard~=2.6->tensorflow) (0.4.8)\n",
      "\u001b[33mWARNING: You are using pip version 19.2.3, however version 21.3.1 is available.\n",
      "You should consider upgrading via the 'pip install --upgrade pip' command.\u001b[0m\n"
     ]
    }
   ],
   "source": [
    "import sys\n",
    "!{sys.executable} -m pip install emoji --upgrade --user\n",
    "!{sys.executable} -m pip install tensorflow --upgrade --user"
   ]
  },
  {
   "cell_type": "code",
   "execution_count": 354,
   "metadata": {},
   "outputs": [],
   "source": [
    "from sklearn import model_selection, preprocessing, linear_model, naive_bayes, metrics, svm\n",
    "from sklearn.feature_extraction.text import TfidfVectorizer, CountVectorizer\n",
    "from sklearn import decomposition, ensemble\n",
    "import random\n",
    "import pandas, numpy, string\n",
    "import emoji\n",
    "import re\n",
    "import tensorflow as tf \n",
    "from keras import layers, models, optimizers, callbacks\n",
    "from keras.preprocessing import text, sequence\n",
    "from keras.models import Sequential\n",
    "from keras.layers import Dense, Conv2D, Flatten"
   ]
  },
  {
   "cell_type": "code",
   "execution_count": 342,
   "metadata": {},
   "outputs": [],
   "source": [
    "# load in the data tweets and corresponding labels\n",
    "trainDF = pandas.read_csv('../Data/sarcasm_db.csv')"
   ]
  },
  {
   "cell_type": "code",
   "execution_count": 343,
   "metadata": {},
   "outputs": [
    {
     "name": "stdout",
     "output_type": "stream",
     "text": [
      "There are three text processing options:\n",
      "1. Keeping emojis in as their emoji representation (text)\n",
      "2. Keeping emojis in as their text description representation (parsed with emojis)\n",
      "3. Removing all and any emoji representations (parsed without emojis)\n",
      "Choose from one: text, parsed with emojis, parsed without emojis\n",
      "parsed without emojis\n"
     ]
    }
   ],
   "source": [
    "# here the user can specify which type of preprocessed data they want to use\n",
    "\n",
    "print('There are three text processing options:')\n",
    "print('1. Keeping emojis in as their emoji representation (text)')\n",
    "print('2. Keeping emojis in as their text description representation (parsed with emojis)')\n",
    "print('3. Removing all and any emoji representations (parsed without emojis)')\n",
    "\n",
    "opt = input(\"Choose from one: text, parsed with emojis, parsed without emojis\\n\").lower()\n",
    "while opt.strip() not in options:\n",
    "    opt = input(\"Not a valid option! Choose from one: text, parsed with emojis, parsed without emojis\\n\").lower()"
   ]
  },
  {
   "cell_type": "code",
   "execution_count": 346,
   "metadata": {},
   "outputs": [],
   "source": [
    "# split the dataset into training and validation datasets \n",
    "train_x, valid_x, train_y, valid_y = model_selection.train_test_split(trainDF[opt], trainDF['sarcasm labels'], test_size=0.10, random_state=69)"
   ]
  },
  {
   "cell_type": "code",
   "execution_count": 347,
   "metadata": {},
   "outputs": [],
   "source": [
    "# label encode the target variable \n",
    "encoder = preprocessing.LabelEncoder()\n",
    "train_y = encoder.fit_transform(train_y)\n",
    "valid_y = encoder.fit_transform(valid_y)"
   ]
  },
  {
   "cell_type": "code",
   "execution_count": 348,
   "metadata": {},
   "outputs": [],
   "source": [
    "# create a count vectorizer object \n",
    "count_vect = CountVectorizer(analyzer='word', token_pattern=r'\\w{1,}')\n",
    "count_vect.fit(trainDF[opt])\n",
    "\n",
    "# transform the training and validation data using count vectorizer object\n",
    "xtrain_count =  count_vect.transform(train_x)\n",
    "xvalid_count =  count_vect.transform(valid_x)"
   ]
  },
  {
   "cell_type": "code",
   "execution_count": 349,
   "metadata": {},
   "outputs": [],
   "source": [
    "# create a tokenizer \n",
    "token = text.Tokenizer()\n",
    "token.fit_on_texts(trainDF[opt])\n",
    "word_index = token.word_index\n",
    "\n",
    "# convert text to sequence of tokens and pad them to ensure equal length vectors \n",
    "train_seq_x = sequence.pad_sequences(token.texts_to_sequences(train_x), maxlen=70)\n",
    "valid_seq_x = sequence.pad_sequences(token.texts_to_sequences(valid_x), maxlen=70)\n",
    "\n",
    "# create token-embedding mapping\n",
    "embedding_matrix = numpy.zeros((len(word_index) + 1, 300))\n",
    "for word, i in word_index.items():\n",
    "    embedding_vector = embeddings_index.get(word)\n",
    "    if embedding_vector is not None:\n",
    "        embedding_matrix[i] = embedding_vector"
   ]
  },
  {
   "cell_type": "code",
   "execution_count": 351,
   "metadata": {},
   "outputs": [],
   "source": [
    "def create_cnn():\n",
    "    # Add an Input Layer\n",
    "    input_layer = layers.Input((70, ))\n",
    "\n",
    "    # Add the word embedding Layer\n",
    "    embedding_layer = layers.Embedding(len(word_index) + 1, 300, weights=[embedding_matrix], trainable=False)(input_layer)\n",
    "    embedding_layer = layers.SpatialDropout1D(0.3)(embedding_layer)\n",
    "\n",
    "    # Add the convolutional Layer\n",
    "    conv_layer = layers.Convolution1D(100, 3, activation=\"relu\")(embedding_layer)\n",
    "\n",
    "    # Add the pooling Layer\n",
    "    pooling_layer = layers.GlobalMaxPool1D()(conv_layer)\n",
    "\n",
    "    # Add the output Layers\n",
    "    output_layer1 = layers.Dense(50, activation=\"relu\")(pooling_layer)\n",
    "    output_layer1 = layers.Dropout(0.25)(output_layer1)\n",
    "    output_layer2 = layers.Dense(1, activation=\"sigmoid\")(output_layer1)\n",
    "\n",
    "    # Compile the model\n",
    "    model = models.Model(inputs=input_layer, outputs=output_layer2)\n",
    "    model.compile(optimizer=tf.optimizers.Adam(), loss='binary_crossentropy', metrics=['accuracy'])\n",
    "\n",
    "    return model"
   ]
  },
  {
   "cell_type": "code",
   "execution_count": 352,
   "metadata": {},
   "outputs": [],
   "source": [
    "def train_model(classifier, feature_vector_train, label, feature_vector_valid):\n",
    "    # fit the training dataset on the classifier\n",
    "    classifier.fit(feature_vector_train, label)\n",
    "    \n",
    "    # predict the labels on validation dataset\n",
    "    predictions = classifier.predict(feature_vector_valid)\n",
    "\n",
    "    rounded_predictions = []\n",
    "    for i in range(len(predictions)):\n",
    "        if round(predictions[i][0]) == 0:\n",
    "            rounded_predictions.append(0)\n",
    "        else:\n",
    "            rounded_predictions.append(1)\n",
    "    return metrics.accuracy_score(rounded_predictions, valid_y)"
   ]
  },
  {
   "cell_type": "code",
   "execution_count": 353,
   "metadata": {},
   "outputs": [
    {
     "name": "stdout",
     "output_type": "stream",
     "text": [
      "254/254 [==============================] - 3s 11ms/step - loss: 0.1547 - accuracy: 0.9554\n",
      "CNN, Word Embeddings with parsed without emojis 0.9789356984478935\n"
     ]
    }
   ],
   "source": [
    "classifier = create_cnn()\n",
    "\n",
    "accuracy = train_model(classifier, train_seq_x, train_y, valid_seq_x)\n",
    "print(\"CNN, Word Embeddings with\", opt,  accuracy)"
   ]
  },
  {
   "cell_type": "code",
   "execution_count": null,
   "metadata": {},
   "outputs": [],
   "source": []
  }
 ],
 "metadata": {
  "kernelspec": {
   "display_name": "Python 3",
   "language": "python",
   "name": "python3"
  },
  "language_info": {
   "codemirror_mode": {
    "name": "ipython",
    "version": 3
   },
   "file_extension": ".py",
   "mimetype": "text/x-python",
   "name": "python",
   "nbconvert_exporter": "python",
   "pygments_lexer": "ipython3",
   "version": "3.8.2"
  }
 },
 "nbformat": 4,
 "nbformat_minor": 4
}
